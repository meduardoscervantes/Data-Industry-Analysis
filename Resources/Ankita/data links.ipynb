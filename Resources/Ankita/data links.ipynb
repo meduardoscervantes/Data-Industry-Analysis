{
 "cells": [
  {
   "cell_type": "markdown",
   "metadata": {},
   "source": [
    "This is a data set from Kaggle.\n",
    "1. The first link is the data set I used for my code\n",
    "2. The second link is for analysis of data scientist jobs. I DID NOT USE THIS\n",
    "3. The third link is for analysis of data engineer jobs. I DID NOT USE THIS\n",
    "4. The fourth link is for analysis of data anlysist jobs. I DID NOT USE THIS\n",
    "\n",
    "If you click on the notebook tab on each link it will give you pandas code of different categories such as salary estimates, location, industry, revenue, etc. "
   ]
  },
  {
   "cell_type": "code",
   "execution_count": 1,
   "metadata": {},
   "outputs": [
    {
     "data": {
      "text/plain": [
       "True"
      ]
     },
     "execution_count": 1,
     "metadata": {},
     "output_type": "execute_result"
    }
   ],
   "source": [
    "import webbrowser \n",
    "# This is the Data Set I used for my analysis\n",
    "webbrowser.open(\"https://www.kaggle.com/samruddhim/analysis-of-data-scientist-jobs/data\")\n",
    "# Data sets I did not use\n",
    "#webbrowser.open(\"https://www.kaggle.com/samruddhim/analysis-of-data-scientist-jobs/notebook\")\n",
    "#webbrowser.open(\"https://www.kaggle.com/samruddhim/analysis-of-data-engineer-jobs/data\")\n",
    "#webbrowser.open(\"https://www.kaggle.com/samruddhim/analysis-of-data-analyst-jobs\")\n",
    "\n"
   ]
  },
  {
   "cell_type": "code",
   "execution_count": null,
   "metadata": {},
   "outputs": [],
   "source": []
  },
  {
   "cell_type": "code",
   "execution_count": null,
   "metadata": {},
   "outputs": [],
   "source": []
  }
 ],
 "metadata": {
  "kernelspec": {
   "display_name": "Python 3",
   "language": "python",
   "name": "python3"
  },
  "language_info": {
   "codemirror_mode": {
    "name": "ipython",
    "version": 3
   },
   "file_extension": ".py",
   "mimetype": "text/x-python",
   "name": "python",
   "nbconvert_exporter": "python",
   "pygments_lexer": "ipython3",
   "version": "3.8.8"
  }
 },
 "nbformat": 4,
 "nbformat_minor": 2
}
