{
 "cells": [
  {
   "cell_type": "markdown",
   "id": "6d4dc99a-74dd-45a0-a673-56d5caa268d8",
   "metadata": {},
   "source": [
    "# Getting the Data"
   ]
  },
  {
   "cell_type": "markdown",
   "id": "1900ad85-c129-4bf6-8d4e-af22d3a69737",
   "metadata": {},
   "source": [
    "##### When our group came together to research \"is data science a good career\" we found a plethora of resources. Amongst those resources we found the governments department of labor and kaggle to house the main datasets for our research."
   ]
  },
  {
   "cell_type": "markdown",
   "id": "bf19527a-f246-47f3-a1da-745d519152ef",
   "metadata": {
    "tags": []
   },
   "source": [
    "# Cleaning the Data"
   ]
  },
  {
   "cell_type": "markdown",
   "id": "89f678d6-7822-4973-aff2-6be351178456",
   "metadata": {},
   "source": [
    "##### Generated map information using the google places API to find global coordinates\n"
   ]
  },
  {
   "cell_type": "code",
   "execution_count": 31,
   "id": "81c8154e-d733-4cd5-9e4f-298450b816c2",
   "metadata": {},
   "outputs": [],
   "source": [
    "import requests\n",
    "import json\n",
    "# from config import google_places_key\n",
    "import pandas as pd\n",
    "import os\n",
    "\n",
    "if not os.path.exists('Resources/manuel/map_information'):\n",
    "    data = pd.read_csv('Resources/manuel/glassdoor_data_scientist_jobs.csv')\n",
    "    sorted_cities = data[\"Location\"].unique()\n",
    "\n",
    "    url = 'https://maps.googleapis.com/maps/api/geocode/json?address='\n",
    "    cities = []\n",
    "    state = []\n",
    "    long = []\n",
    "    lat = []\n",
    "    for x in sorted_cities:\n",
    "        state.append(x[-2:])\n",
    "        cities.append(x[:-4])\n",
    "        payload = requests.get(f'{url}{str(x).replace(\" \", \"+\")}&key={google_places_key}').json()\n",
    "        long.append(payload['results'][0]['geometry']['location']['lng'])\n",
    "        lat.append(payload['results'][0]['geometry']['location']['lat'])\n",
    "        print(f'{x} added!')\n",
    "\n",
    "    map_info = pd.DataFrame({\n",
    "        \"city\": cities,\n",
    "        \"state\": state,\n",
    "        \"long\": long,\n",
    "        \"lat\": lat\n",
    "    })\n",
    "    map_info.to_csv(\"Resources/map_information\", index=False)\n",
    "\n"
   ]
  },
  {
   "cell_type": "markdown",
   "id": "c9a71b3c-2b80-4a8f-9158-aac433762cee",
   "metadata": {},
   "source": [
    "##### Cleaned the masterbook excel sheet with multiple spreadsheets into several .csv files. Those files are saved inside of the _breakdown directory"
   ]
  },
  {
   "cell_type": "code",
   "execution_count": 32,
   "id": "3ed15ef7-69ed-48bf-bfc1-b87d256fa0b2",
   "metadata": {},
   "outputs": [],
   "source": [
    "import pandas as pd\n",
    "from os.path import exists\n",
    "import os\n",
    "pd.set_option('display.max_columns', None)\n",
    "\n",
    "production = False\n",
    "if production:\n",
    "    path = '../../Resources/manuel/occupation_Masterbook.xlsx'\n",
    "    if exists(path) and not exists('../../Resources/masterbook/'):\n",
    "        os.mkdir('../../Resources/masterbook')\n",
    "        xcl = pd.read_excel(path, sheet_name=None)\n",
    "        for key in xcl.keys():\n",
    "            xcl[key].to_csv('Resources/masterbook/{}.csv'.format(key), index=False)\n",
    "            df = pd.read_csv('Resources/masterbook/{}.csv'.format(key))\n",
    "            new_columns = []\n",
    "            for x in df.columns:\n",
    "                new_columns.append(df[x].iloc[0])\n",
    "            df.columns = new_columns\n",
    "            clean_df = df.iloc[1:]\n",
    "            clean_df.to_csv('Resources/masterbook/{}.csv'.format(key), index=False)\n",
    "\n",
    "    path = '../../Resources/manuel/Fastest_Growing_Occupations_2020.xlsx'\n",
    "    if exists(path) and not exists('../../Resources/growing_occupation/'):\n",
    "        os.mkdir('../../Resources/growing_occupation/')\n",
    "        xcl = pd.read_excel(path, sheet_name=None)\n",
    "        for key in xcl.keys():\n",
    "            xcl[key].to_csv('Resources/growing_occupation/{}.csv'.format(key), index=False)\n",
    "            df = pd.read_csv('Resources/growing_occupation/{}.csv'.format(key))\n",
    "            new_columns = []\n",
    "            for x in df.columns:\n",
    "                new_columns.append(df[x].iloc[0])\n",
    "            df.columns = new_columns\n",
    "            clean_df = df.iloc[1:]\n",
    "            clean_df.to_csv('Resources/growing_occupation/{}.csv'.format(key), index=False)\n"
   ]
  },
  {
   "cell_type": "markdown",
   "id": "24bde917-1012-453c-8b25-fcc281cf7fb1",
   "metadata": {},
   "source": [
    "##### Cleaned each .csv file to include on the jobs that we found are usable for our analysis"
   ]
  },
  {
   "cell_type": "code",
   "execution_count": 33,
   "id": "a125f8f1-bd4d-49f0-88ed-a16c620d9901",
   "metadata": {},
   "outputs": [],
   "source": [
    "import pandas as pd\n",
    "import os\n",
    "pd.set_option('display.max_columns', 2)\n",
    "\n",
    "production = False\n",
    "if production:\n",
    "    ocupations = [\n",
    "        '11-3021',\n",
    "        '15-0000',\n",
    "        '15-1211',\n",
    "        '15-1221',\n",
    "        '15-1231',\n",
    "        '15-1241',\n",
    "        '15-1245',\n",
    "        '15-1251',\n",
    "        '15-2098',\n",
    "        '51-9161',\n",
    "        '51-9162'\n",
    "    ]\n",
    "    if not os.path.exists('../../Resources/manuel/masterbook_breakdown'):\n",
    "        counter = 0\n",
    "        for file in os.listdir('../../Resources/masterbook'):\n",
    "            df = pd.read_csv(f'Resources/masterbook/{file}')\n",
    "            if counter == 0:\n",
    "                pass\n",
    "            else:\n",
    "                occ_df = df.loc[\n",
    "                    (df[df.columns[1]] == ocupations[0]) |\n",
    "                    (df[df.columns[1]] == ocupations[1]) |\n",
    "                    (df[df.columns[1]] == ocupations[2]) |\n",
    "                    (df[df.columns[1]] == ocupations[3]) |\n",
    "                    (df[df.columns[1]] == ocupations[4]) |\n",
    "                    (df[df.columns[1]] == ocupations[5]) |\n",
    "                    (df[df.columns[1]] == ocupations[6]) |\n",
    "                    (df[df.columns[1]] == ocupations[7]) |\n",
    "                    (df[df.columns[1]] == ocupations[8]) |\n",
    "                    (df[df.columns[1]] == ocupations[9]) |\n",
    "                    (df[df.columns[1]] == ocupations[10])\n",
    "                ]\n",
    "                if not os.path.exists('../../Resources/manuel/masterbook_breakdown/'):\n",
    "                    os.mkdir('../../Resources/manuel/masterbook_breakdown/')\n",
    "                if not len(occ_df) == 0:\n",
    "                    occ_df.to_csv(f'Resources/masterbook_breakdown/{file}', index=False)\n",
    "            counter += 1\n",
    "    if not os.path.exists('../../Resources/manuel/growing_occupation_breakdown'):\n",
    "        counter = 0\n",
    "        for file in os.listdir('../../Resources/growing_occupation'):\n",
    "            df = pd.read_csv(f'Resources/growing_occupation/{file}')\n",
    "            if counter == 0:\n",
    "                pass\n",
    "            else:\n",
    "                occ_df = df.loc[\n",
    "                    (df[df.columns[1]] == ocupations[0]) |\n",
    "                    (df[df.columns[1]] == ocupations[1]) |\n",
    "                    (df[df.columns[1]] == ocupations[2]) |\n",
    "                    (df[df.columns[1]] == ocupations[3]) |\n",
    "                    (df[df.columns[1]] == ocupations[4]) |\n",
    "                    (df[df.columns[1]] == ocupations[5]) |\n",
    "                    (df[df.columns[1]] == ocupations[6]) |\n",
    "                    (df[df.columns[1]] == ocupations[7]) |\n",
    "                    (df[df.columns[1]] == ocupations[8]) |\n",
    "                    (df[df.columns[1]] == ocupations[9]) |\n",
    "                    (df[df.columns[1]] == ocupations[10])\n",
    "                ]\n",
    "                if not os.path.exists('../../Resources/manuel/growing_occupation_breakdown/'):\n",
    "                    os.mkdir('../../Resources/manuel/growing_occupation_breakdown/')\n",
    "                if not len(occ_df) == 0:\n",
    "                    occ_df.to_csv(f'Resources/growing_occupation_breakdown/{file}', index=False)\n",
    "            counter += 1\n"
   ]
  },
  {
   "cell_type": "markdown",
   "id": "9d6d4c3d-caae-4e37-8419-b67fc9e6a3a0",
   "metadata": {},
   "source": [
    "##### Then made every posssible bar chart combination with the .csv files. As a group we decided which ones we wanted to use for our final analysis."
   ]
  },
  {
   "cell_type": "code",
   "execution_count": 34,
   "id": "9412597e-0296-47c4-9240-ab54bd230ae0",
   "metadata": {},
   "outputs": [],
   "source": [
    "import pandas as pd\n",
    "import matplotlib.pyplot as plt\n",
    "import os\n",
    "\n",
    "production = False\n",
    "if production:\n",
    "    masterbook_dfs = [\n",
    "        pd.read_csv(f'Resources/masterbook_breakdown/{file}')\n",
    "        for file in os.listdir('../../Resources/manuel/masterbook_breakdown')\n",
    "    ]\n",
    "\n",
    "    growing_occ_df = [\n",
    "        pd.read_csv(f'Resources/growing_occupation_breakdown/{file}')\n",
    "        for file in os.listdir('../../Resources/manuel/growing_occupation_breakdown')\n",
    "    ]\n",
    "\n",
    "    # Read the .csv with Employment Information\n",
    "    job_stats_df = masterbook_dfs[1]\n",
    "    print(job_stats_df.columns)\n",
    "    # Update the column names for greater legibility\n",
    "    columns = []\n",
    "    for x in job_stats_df.columns:\n",
    "        if x == 'Occupation\\ntype':\n",
    "            columns.append(\"Occupation Type\")\n",
    "        else:\n",
    "            columns.append(x)\n",
    "    job_stats_df.columns = columns\n",
    "\n",
    "    if not os.path.exists('../../Resources/manuel/graphs/'):\n",
    "        os.mkdir('../../Resources/manuel/graphs/')\n",
    "        counter = 0\n",
    "        for x in range(len(job_stats_df.columns)):\n",
    "            for y in range(len(job_stats_df.columns)):\n",
    "                x_axis = job_stats_df[job_stats_df.columns[x]]\n",
    "                y_axis = job_stats_df[job_stats_df.columns[y]]\n",
    "                title = f'{job_stats_df.columns[x]} vs. {job_stats_df.columns[y]}'\n",
    "                plt.figure(counter)\n",
    "                plt.bar(x_axis, y_axis)\n",
    "                plt.xlabel(job_stats_df.columns[x])\n",
    "                plt.ylabel(job_stats_df.columns[y])\n",
    "                plt.title(title)\n",
    "                plt.xticks(rotation=90)\n",
    "                plt.savefig(f'Resources/graphs/{title}.png')\n",
    "                plt.close(counter)\n",
    "                counter += 1\n"
   ]
  },
  {
   "cell_type": "markdown",
   "id": "3f587558-9531-4e8c-b013-16abe3092cd6",
   "metadata": {},
   "source": [
    "##### Looking at table_1.2 in the masterbook, we found the jobs with the matching job titles we wanted in order to find the best annual salary, education required, and work experience"
   ]
  },
  {
   "cell_type": "code",
   "execution_count": 44,
   "id": "13a6ac39-34f8-405a-bc89-a10d3909fba5",
   "metadata": {},
   "outputs": [
    {
     "data": {
      "image/png": "[encoded data removed]",
      "text/plain": [
       "<Figure size 432x288 with 1 Axes>"
      ]
     },
     "metadata": {
      "needs_background": "light"
     },
     "output_type": "display_data"
    },
    {
     "data": {
      "text/plain": [
       "<Figure size 432x288 with 0 Axes>"
      ]
     },
     "metadata": {},
     "output_type": "display_data"
    }
   ],
   "source": [
    "# Dependencies and Setup\n",
    "import matplotlib.pyplot as plt\n",
    "import pandas as pd\n",
    "import scipy.stats as st\n",
    "from scipy.stats import linregress\n",
    "import numpy\n",
    "import matplotlib.style\n",
    "%matplotlib inline\n",
    "table_2_path = \"Resources/Table_2.csv\"\n",
    "table_2_df = pd.read_csv(table_2_path)\n",
    "table_2_df\n",
    "df = table_2_df.loc[\n",
    "    (table_2_df[\"2020 National Employment Matrix title\"] == \"Data scientists and mathematical science occupations, all other\") | \n",
    "    (table_2_df[\"2020 National Employment Matrix title\"] == \"Database administrators and architects\") |\n",
    "    (table_2_df[\"2020 National Employment Matrix title\"] == \"Computer and information research scientists\") |\n",
    "    (table_2_df[\"2020 National Employment Matrix title\"] == \"Computer and information systems managers\") |\n",
    "    (table_2_df[\"2020 National Employment Matrix title\"] == \"Computer and mathematical occupations\") |\n",
    "    (table_2_df[\"2020 National Employment Matrix title\"] == \"Computer network architects\") | \n",
    "    (table_2_df[\"2020 National Employment Matrix title\"] == \"Computer network support specialists\") |\n",
    "    (table_2_df[\"2020 National Employment Matrix title\"] == \"Computer numerically controlled tool operators\") |\n",
    "    (table_2_df[\"2020 National Employment Matrix title\"] == \"Computer numerically controlled tool programmers\") |\n",
    "    (table_2_df[\"2020 National Employment Matrix title\"] == \"Computer programmers\") |\n",
    "    (table_2_df[\"2020 National Employment Matrix title\"] == \"Computer systems analysts\") |\n",
    "    (table_2_df[\"2020 National Employment Matrix title\"] == \"Data scientists and mathematical science occupations, all other\") |\n",
    "    (table_2_df[\"2020 National Employment Matrix title\"] == \"Database administrators and architects\") \n",
    "]\n",
    "df = df.astype({\"2020 National Employment Matrix title\": str, \"Median annual wage 2020\": float})\n",
    "df\n",
    "\n",
    "stat = df['Median annual wage 2020']\n",
    "stat = stat.astype({\"Median annual wage 2020\": int})\n",
    "pd.set_option(\"display.precision\", 0)\n",
    "stat_df = pd.DataFrame({\"Median annual wage 2020\" : stat})\n",
    "stat_df['Median annual wage 2020'].describe()\n",
    "\n",
    "col = df[['2020 National Employment Matrix title','Median annual wage 2020']]\n",
    "col = col.astype({\"2020 National Employment Matrix title\": str, \"Median annual wage 2020\": float})\n",
    "col\n",
    "\n",
    "set_x = col[\"2020 National Employment Matrix title\"]\n",
    "set_y = col[\"Median annual wage 2020\"]\n",
    "\n",
    "#Establish dataframe with the values\n",
    "plt.barh(set_x, set_y)\n",
    "\n",
    "#Chart editing\n",
    "plt.title(\"Average Annual Salary\")\n",
    "plt.xticks(rotation=90)\n",
    "plt.xlabel(\"Average Salary ($)\") \n",
    "plt.show()\n",
    "plt.savefig(\"average_annual_salary.png\")\n",
    "\n",
    "df1 = table_2_df.loc[\n",
    "    (table_2_df[\"2020 National Employment Matrix title\"] == \"Data scientists and mathematical science occupations, all other\") | \n",
    "    (table_2_df[\"2020 National Employment Matrix title\"] == \"Database administrators and architects\") |\n",
    "    (table_2_df[\"2020 National Employment Matrix title\"] == \"Computer and information research scientists\") |\n",
    "    (table_2_df[\"2020 National Employment Matrix title\"] == \"Computer and information systems managers\") |\n",
    "    (table_2_df[\"2020 National Employment Matrix title\"] == \"Computer network architects\") | \n",
    "    (table_2_df[\"2020 National Employment Matrix title\"] == \"Computer network support specialists\") |\n",
    "    (table_2_df[\"2020 National Employment Matrix title\"] == \"Computer numerically controlled tool operators\") |\n",
    "    (table_2_df[\"2020 National Employment Matrix title\"] == \"Computer numerically controlled tool programmers\") |\n",
    "    (table_2_df[\"2020 National Employment Matrix title\"] == \"Computer programmers\") |\n",
    "    (table_2_df[\"2020 National Employment Matrix title\"] == \"Computer systems analysts\") |\n",
    "    (table_2_df[\"2020 National Employment Matrix title\"] == \"Data scientists and mathematical science occupations, all other\") |\n",
    "    (table_2_df[\"2020 National Employment Matrix title\"] == \"Database administrators and architects\") \n",
    "]\n",
    "\n",
    "degree = df1.groupby(\"Typical education needed for entry\")\n",
    "degree_count = degree[\"Median annual wage 2020\"].count()"
   ]
  },
  {
   "cell_type": "code",
   "execution_count": 45,
   "id": "cff9771e-fe82-40e0-b2c5-8c58f9678bde",
   "metadata": {},
   "outputs": [
    {
     "ename": "NameError",
     "evalue": "name 'pie1' is not defined",
     "output_type": "error",
     "traceback": [
      "\u001b[1;31m---------------------------------------------------------------------------\u001b[0m",
      "\u001b[1;31mNameError\u001b[0m                                 Traceback (most recent call last)",
      "\u001b[1;32m~\\AppData\\Local\\Temp/ipykernel_9524/1753518036.py\u001b[0m in \u001b[0;36m<module>\u001b[1;34m\u001b[0m\n\u001b[0;32m      1\u001b[0m \u001b[0mlabels\u001b[0m \u001b[1;33m=\u001b[0m \u001b[1;33m[\u001b[0m\u001b[1;34m\"Associates degree\"\u001b[0m\u001b[1;33m,\u001b[0m \u001b[1;34m\"Bachelor's degree\"\u001b[0m\u001b[1;33m,\u001b[0m \u001b[1;34m\"High school diploma or equivalent\"\u001b[0m \u001b[1;33m,\u001b[0m \u001b[1;34m\"Master's degree\"\u001b[0m\u001b[1;33m,\u001b[0m \u001b[1;34m\"Postsecondary nondegree award\"\u001b[0m\u001b[1;33m]\u001b[0m\u001b[1;33m\u001b[0m\u001b[1;33m\u001b[0m\u001b[0m\n\u001b[0;32m      2\u001b[0m \u001b[0mplt\u001b[0m\u001b[1;33m.\u001b[0m\u001b[0mpie\u001b[0m\u001b[1;33m(\u001b[0m\u001b[0mdegree_count\u001b[0m\u001b[1;33m,\u001b[0m \u001b[0mlabels\u001b[0m\u001b[1;33m=\u001b[0m\u001b[0mlabels\u001b[0m\u001b[1;33m,\u001b[0m \u001b[0mautopct\u001b[0m\u001b[1;33m=\u001b[0m\u001b[1;34m'%1.1f%%'\u001b[0m\u001b[1;33m,\u001b[0m \u001b[0mstartangle\u001b[0m\u001b[1;33m=\u001b[0m\u001b[1;36m65\u001b[0m\u001b[1;33m)\u001b[0m\u001b[1;33m\u001b[0m\u001b[1;33m\u001b[0m\u001b[0m\n\u001b[1;32m----> 3\u001b[1;33m \u001b[0mpie1\u001b[0m\u001b[1;33m.\u001b[0m\u001b[0maxis\u001b[0m\u001b[1;33m(\u001b[0m\u001b[1;34m'equal'\u001b[0m\u001b[1;33m)\u001b[0m\u001b[1;33m\u001b[0m\u001b[1;33m\u001b[0m\u001b[0m\n\u001b[0m\u001b[0;32m      4\u001b[0m \u001b[0mplt\u001b[0m\u001b[1;33m.\u001b[0m\u001b[0mtitle\u001b[0m\u001b[1;33m(\u001b[0m\u001b[1;34m\"Typical Education Required\"\u001b[0m\u001b[1;33m)\u001b[0m\u001b[1;33m\u001b[0m\u001b[1;33m\u001b[0m\u001b[0m\n\u001b[0;32m      5\u001b[0m \u001b[0mplt\u001b[0m\u001b[1;33m.\u001b[0m\u001b[0mshow\u001b[0m\u001b[1;33m(\u001b[0m\u001b[1;33m)\u001b[0m\u001b[1;33m\u001b[0m\u001b[1;33m\u001b[0m\u001b[0m\n",
      "\u001b[1;31mNameError\u001b[0m: name 'pie1' is not defined"
     ]
    },
    {
     "data": {
      "image/png": "[encoded data removed]",
      "text/plain": [
       "<Figure size 432x288 with 1 Axes>"
      ]
     },
     "metadata": {},
     "output_type": "display_data"
    }
   ],
   "source": [
    "labels = [\"Associates degree\", \"Bachelor's degree\", \"High school diploma or equivalent\" , \"Master's degree\", \"Postsecondary nondegree award\"]\n",
    "plt.pie(degree_count, labels=labels, autopct='%1.1f%%', startangle=65)\n",
    "pie1.axis('equal')\n",
    "plt.title(\"Typical Education Required\")\n",
    "plt.show()\n",
    "plt.savefig(\"education_required.png\")"
   ]
  },
  {
   "cell_type": "code",
   "execution_count": 46,
   "id": "8848a8f1-5740-4ce4-9175-ee7c46a88343",
   "metadata": {},
   "outputs": [
    {
     "name": "stdout",
     "output_type": "stream",
     "text": [
      "Work experience in a related occupation\n",
      "5 years or more    2\n",
      "None               8\n",
      "Name: Work experience in a related occupation, dtype: int64\n"
     ]
    },
    {
     "ename": "NameError",
     "evalue": "name 'pie1' is not defined",
     "output_type": "error",
     "traceback": [
      "\u001b[1;31m---------------------------------------------------------------------------\u001b[0m",
      "\u001b[1;31mNameError\u001b[0m                                 Traceback (most recent call last)",
      "\u001b[1;32m~\\AppData\\Local\\Temp/ipykernel_9524/281669858.py\u001b[0m in \u001b[0;36m<module>\u001b[1;34m\u001b[0m\n\u001b[0;32m      5\u001b[0m \u001b[0mlabels\u001b[0m \u001b[1;33m=\u001b[0m \u001b[1;33m[\u001b[0m\u001b[1;34m\"5 years or more\"\u001b[0m\u001b[1;33m,\u001b[0m \u001b[1;34m\"None\"\u001b[0m\u001b[1;33m]\u001b[0m\u001b[1;33m\u001b[0m\u001b[1;33m\u001b[0m\u001b[0m\n\u001b[0;32m      6\u001b[0m \u001b[0mplt\u001b[0m\u001b[1;33m.\u001b[0m\u001b[0mpie\u001b[0m\u001b[1;33m(\u001b[0m\u001b[0mwexp_count\u001b[0m\u001b[1;33m,\u001b[0m \u001b[0mlabels\u001b[0m\u001b[1;33m=\u001b[0m\u001b[0mlabels\u001b[0m\u001b[1;33m,\u001b[0m \u001b[0mautopct\u001b[0m\u001b[1;33m=\u001b[0m\u001b[1;34m'%1.1f%%'\u001b[0m\u001b[1;33m,\u001b[0m \u001b[0mstartangle\u001b[0m\u001b[1;33m=\u001b[0m\u001b[1;36m65\u001b[0m\u001b[1;33m)\u001b[0m\u001b[1;33m\u001b[0m\u001b[1;33m\u001b[0m\u001b[0m\n\u001b[1;32m----> 7\u001b[1;33m \u001b[0mpie1\u001b[0m\u001b[1;33m.\u001b[0m\u001b[0maxis\u001b[0m\u001b[1;33m(\u001b[0m\u001b[1;34m'equal'\u001b[0m\u001b[1;33m)\u001b[0m\u001b[1;33m\u001b[0m\u001b[1;33m\u001b[0m\u001b[0m\n\u001b[0m\u001b[0;32m      8\u001b[0m \u001b[0mplt\u001b[0m\u001b[1;33m.\u001b[0m\u001b[0mtitle\u001b[0m\u001b[1;33m(\u001b[0m\u001b[1;34m\"Typical Work Experience Required\"\u001b[0m\u001b[1;33m)\u001b[0m\u001b[1;33m\u001b[0m\u001b[1;33m\u001b[0m\u001b[0m\n\u001b[0;32m      9\u001b[0m \u001b[0mplt\u001b[0m\u001b[1;33m.\u001b[0m\u001b[0mshow\u001b[0m\u001b[1;33m(\u001b[0m\u001b[1;33m)\u001b[0m\u001b[1;33m\u001b[0m\u001b[1;33m\u001b[0m\u001b[0m\n",
      "\u001b[1;31mNameError\u001b[0m: name 'pie1' is not defined"
     ]
    },
    {
     "data": {
      "image/png": "[encoded data removed]",
      "text/plain": [
       "<Figure size 432x288 with 1 Axes>"
      ]
     },
     "metadata": {},
     "output_type": "display_data"
    }
   ],
   "source": [
    "work_experience = df1.groupby(\"Work experience in a related occupation\")\n",
    "wexp_count = work_experience[\"Work experience in a related occupation\"].count()\n",
    "print(wexp_count)\n",
    "\n",
    "labels = [\"5 years or more\", \"None\"]\n",
    "plt.pie(wexp_count, labels=labels, autopct='%1.1f%%', startangle=65)\n",
    "pie1.axis('equal')\n",
    "plt.title(\"Typical Work Experience Required\")\n",
    "plt.show()\n",
    "plt.savefig(\"work_experience.png\")"
   ]
  },
  {
   "cell_type": "markdown",
   "id": "bbe5fcc8-818a-45f2-979f-33afcb3fd33b",
   "metadata": {},
   "source": [
    "##### Cleaned up a kaggle dataset dedicated to data scientist jobs"
   ]
  },
  {
   "cell_type": "code",
   "execution_count": 58,
   "id": "6e78916c-1b91-4191-a692-adc3138c95db",
   "metadata": {},
   "outputs": [
    {
     "data": {
      "image/png": "[encoded data removed]",
      "text/plain": [
       "<Figure size 432x288 with 1 Axes>"
      ]
     },
     "metadata": {
      "needs_background": "light"
     },
     "output_type": "display_data"
    },
    {
     "data": {
      "image/png": "[encoded data removed]",
      "text/plain": [
       "<Figure size 432x288 with 1 Axes>"
      ]
     },
     "metadata": {
      "needs_background": "light"
     },
     "output_type": "display_data"
    }
   ],
   "source": [
    "### Glassdoor Data Scientist Job Data \n",
    "\n",
    "# import modules\n",
    "import pandas as pd\n",
    "import os\n",
    "import scipy.stats as st\n",
    "import numpy as np \n",
    "import matplotlib.pyplot as plt\n",
    "%matplotlib inline\n",
    "pd.set_option('display.max_rows', 500)# load dataset\n",
    "glassdoor = pd.read_csv(\"Resources/glassdoor/glassdoor_data_scientist_jobs.csv\")\n",
    "\n",
    "# remove unneeded columns\n",
    "glassdoor.drop('Unnamed: 0', axis=1, inplace=True)\n",
    "glassdoor.drop('index', axis=1, inplace=True)\n",
    "glassdoor.drop('Salary Estimate', axis=1, inplace=True)\n",
    "glassdoor.drop('Rating', axis=1, inplace=True)\n",
    "glassdoor.drop('Company Name', axis=1, inplace=True)\n",
    "glassdoor.drop('Location', axis=1, inplace=True)\n",
    "glassdoor.drop('Headquarters', axis=1, inplace=True)\n",
    "glassdoor.drop('Size', axis=1, inplace=True)\n",
    "glassdoor.drop('Founded', axis=1, inplace=True)\n",
    "glassdoor.drop('Type of ownership', axis=1, inplace=True)\n",
    "glassdoor.drop('Revenue', axis=1, inplace=True)\n",
    "glassdoor.drop('Competitors', axis=1, inplace=True)\n",
    "glassdoor.drop('Easy Apply', axis=1, inplace=True)\n",
    "glassdoor.drop('Industry', axis=1, inplace=True)\n",
    "glassdoor.drop('Sector', axis=1, inplace=True)\n",
    "glassdoor.head()\n",
    "\n",
    "job_title_df = glassdoor.loc[\n",
    "    (glassdoor[\"Job Description\"].str.contains(\"Excel\", case=False)) |\n",
    "    (glassdoor[\"Job Description\"].str.contains(\"Python\", case=False)) |\n",
    "    (glassdoor[\"Job Description\"].str.contains(\"SQL\", case=False)) |\n",
    "    (glassdoor[\"Job Description\"].str.contains(\"Tableau\", case=False)) |\n",
    "    (glassdoor[\"Job Description\"].str.contains(\"Machine Learning\", case=False))\n",
    "]\n",
    "glassdoor_clean = job_title_df\n",
    "\n",
    "\n",
    "# job title types\n",
    "job_title = glassdoor[\"Job Title\"].value_counts()\n",
    "job_title = job_title[:20]\n",
    "job_title\n",
    "\n",
    "# create bar graph for jobs with relevant job skills\n",
    "keywords = [\n",
    "    \"Excel\",\n",
    "    \"Python\",\n",
    "    \"SQL\",\n",
    "    \"Tableau\",\n",
    "    \"Machine Learning\"\n",
    "]\n",
    "\n",
    "x_axis = keywords\n",
    "y_axis = []\n",
    "\n",
    "for keyword in keywords:\n",
    "    key_word_df = job_title_df.loc[job_title_df[\"Job Description\"].str.contains(keyword, case=False)]\n",
    "    number_of_values = len(key_word_df)\n",
    "    y_axis.append(number_of_values)\n",
    "    \n",
    "plt.bar(x_axis, y_axis)\n",
    "plt.xlabel(\"Top 5 Skills / Languages in Glassdoor Job Descriptions\")\n",
    "plt.ylabel(\"Glassdoor Data Science Jobs 2020\")\n",
    "plt.title(\"Required Data Science Skills / Languages\")\n",
    "\n",
    "# set tick colors:\n",
    "ax = plt.gca()\n",
    "ax.tick_params(axis='x', colors='green')\n",
    "ax.tick_params(axis='y', colors='red')\n",
    "\n",
    "plt.show()\n",
    "\n",
    "# search for code language keyword \"Entry\"\n",
    "glassdoor_clean.loc[glassdoor_clean[\"Job Description\"].str.contains(\"Entry\", case=False)]\n",
    "\n",
    "# search for code language keyword \"Certification\"\n",
    "glassdoor_clean.loc[glassdoor_clean[\"Job Description\"].str.contains(\"Certification\", case=False)]\n",
    "\n",
    "# search for code language keyword \"Degree\"\n",
    "glassdoor_clean.loc[glassdoor_clean[\"Job Description\"].str.contains(\"Degree\", case=False)]\n",
    "\n",
    "# create bar graph for degree vs certification\n",
    "keywords = [\n",
    "    \"Degree\",\n",
    "    \"Certification\"\n",
    "]\n",
    "  \n",
    "x_axis = keywords\n",
    "y_axis = []\n",
    "\n",
    "for keyword in keywords:\n",
    "    key_word_df = job_title_df.loc[job_title_df[\"Job Description\"].str.contains(keyword, case=False)]\n",
    "    number_of_values = len(key_word_df)\n",
    "    y_axis.append(number_of_values)\n",
    "    \n",
    "plt.bar(x_axis, y_axis)\n",
    "plt.xlabel(\"Preferred Education in Glassdoor Job Descriptions\")\n",
    "plt.ylabel(\"Glassdoor Data Science Jobs 2020\")\n",
    "plt.title(\"Degree Verses Certification Requirements\")\n",
    "\n",
    "# set tick colors:\n",
    "ax = plt.gca()\n",
    "ax.tick_params(axis='x', colors='red')\n",
    "ax.tick_params(axis='y', colors='green')"
   ]
  },
  {
   "cell_type": "code",
   "execution_count": null,
   "id": "f72f715c-9a19-4783-9d64-763b16c89253",
   "metadata": {},
   "outputs": [],
   "source": []
  },
  {
   "cell_type": "code",
   "execution_count": null,
   "id": "dbd1c19e-d3bd-498d-939c-4bb82a94e474",
   "metadata": {},
   "outputs": [],
   "source": []
  },
  {
   "cell_type": "code",
   "execution_count": null,
   "id": "7d6e7b28-dfc2-4fd1-a241-bd0763f3cbd3",
   "metadata": {},
   "outputs": [],
   "source": []
  },
  {
   "cell_type": "code",
   "execution_count": null,
   "id": "fe65150a-73a7-4873-8fb6-cdf6bd555a46",
   "metadata": {},
   "outputs": [],
   "source": []
  },
  {
   "cell_type": "code",
   "execution_count": null,
   "id": "1f54b806-a7fa-4cd9-b18e-86fdac49a2cc",
   "metadata": {},
   "outputs": [],
   "source": []
  },
  {
   "cell_type": "markdown",
   "id": "0f230d02-a7d8-4d30-ab3c-f610adf75a80",
   "metadata": {},
   "source": [
    "# Analyzing the Data"
   ]
  },
  {
   "cell_type": "code",
   "execution_count": null,
   "id": "614e720c-8b49-4bf2-9647-94ac019c9d5a",
   "metadata": {},
   "outputs": [],
   "source": []
  }
 ],
 "metadata": {
  "kernelspec": {
   "display_name": "Python 3 (ipykernel)",
   "language": "python",
   "name": "python3"
  },
  "language_info": {
   "codemirror_mode": {
    "name": "ipython",
    "version": 3
   },
   "file_extension": ".py",
   "mimetype": "text/x-python",
   "name": "python",
   "nbconvert_exporter": "python",
   "pygments_lexer": "ipython3",
   "version": "3.8.8"
  }
 },
 "nbformat": 4,
 "nbformat_minor": 5
}
