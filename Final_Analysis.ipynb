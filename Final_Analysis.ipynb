{
 "cells": [
  {
   "cell_type": "markdown",
   "id": "6d4dc99a-74dd-45a0-a673-56d5caa268d8",
   "metadata": {},
   "source": [
    "# Getting the Data"
   ]
  },
  {
   "cell_type": "markdown",
   "id": "1900ad85-c129-4bf6-8d4e-af22d3a69737",
   "metadata": {},
   "source": [
    "##### When our group came together to research \"is data science a good career\" we found a plethora of resources. Amongst those resources we found the governments department of labor and kaggle to house the main datasets for our research."
   ]
  },
  {
   "cell_type": "markdown",
   "id": "bf19527a-f246-47f3-a1da-745d519152ef",
   "metadata": {
    "tags": []
   },
   "source": [
    "# Cleaning the Data"
   ]
  },
  {
   "cell_type": "markdown",
   "id": "89f678d6-7822-4973-aff2-6be351178456",
   "metadata": {},
   "source": [
    "##### Generated map information using the google places API to find global coordinates\n"
   ]
  },
  {
   "cell_type": "code",
   "execution_count": 26,
   "id": "81c8154e-d733-4cd5-9e4f-298450b816c2",
   "metadata": {},
   "outputs": [],
   "source": [
    "import requests\n",
    "import json\n",
    "# from config import google_places_key\n",
    "import pandas as pd\n",
    "import os\n",
    "\n",
    "if not os.path.exists('Resources/manuel/map_information'):\n",
    "    data = pd.read_csv('Resources/manuel/glassdoor_data_scientist_jobs.csv')\n",
    "    sorted_cities = data[\"Location\"].unique()\n",
    "\n",
    "    url = 'https://maps.googleapis.com/maps/api/geocode/json?address='\n",
    "    cities = []\n",
    "    state = []\n",
    "    long = []\n",
    "    lat = []\n",
    "    for x in sorted_cities:\n",
    "        state.append(x[-2:])\n",
    "        cities.append(x[:-4])\n",
    "        payload = requests.get(f'{url}{str(x).replace(\" \", \"+\")}&key={google_places_key}').json()\n",
    "        long.append(payload['results'][0]['geometry']['location']['lng'])\n",
    "        lat.append(payload['results'][0]['geometry']['location']['lat'])\n",
    "        print(f'{x} added!')\n",
    "\n",
    "    map_info = pd.DataFrame({\n",
    "        \"city\": cities,\n",
    "        \"state\": state,\n",
    "        \"long\": long,\n",
    "        \"lat\": lat\n",
    "    })\n",
    "    map_info.to_csv(\"Resources/map_information\", index=False)\n",
    "\n"
   ]
  },
  {
   "cell_type": "markdown",
   "id": "c9a71b3c-2b80-4a8f-9158-aac433762cee",
   "metadata": {},
   "source": [
    "##### Cleaned the masterbook excel sheet with multiple spreadsheets into several .csv files. Those files are saved inside of the _breakdown directory"
   ]
  },
  {
   "cell_type": "code",
   "execution_count": 25,
   "id": "3ed15ef7-69ed-48bf-bfc1-b87d256fa0b2",
   "metadata": {},
   "outputs": [],
   "source": [
    "import pandas as pd\n",
    "from os.path import exists\n",
    "import os\n",
    "pd.set_option('display.max_columns', None)\n",
    "\n",
    "production = False\n",
    "if production:\n",
    "    path = '../../Resources/manuel/occupation_Masterbook.xlsx'\n",
    "    if exists(path) and not exists('../../Resources/masterbook/'):\n",
    "        os.mkdir('../../Resources/masterbook')\n",
    "        xcl = pd.read_excel(path, sheet_name=None)\n",
    "        for key in xcl.keys():\n",
    "            xcl[key].to_csv('Resources/masterbook/{}.csv'.format(key), index=False)\n",
    "            df = pd.read_csv('Resources/masterbook/{}.csv'.format(key))\n",
    "            new_columns = []\n",
    "            for x in df.columns:\n",
    "                new_columns.append(df[x].iloc[0])\n",
    "            df.columns = new_columns\n",
    "            clean_df = df.iloc[1:]\n",
    "            clean_df.to_csv('Resources/masterbook/{}.csv'.format(key), index=False)\n",
    "\n",
    "    path = '../../Resources/manuel/Fastest_Growing_Occupations_2020.xlsx'\n",
    "    if exists(path) and not exists('../../Resources/growing_occupation/'):\n",
    "        os.mkdir('../../Resources/growing_occupation/')\n",
    "        xcl = pd.read_excel(path, sheet_name=None)\n",
    "        for key in xcl.keys():\n",
    "            xcl[key].to_csv('Resources/growing_occupation/{}.csv'.format(key), index=False)\n",
    "            df = pd.read_csv('Resources/growing_occupation/{}.csv'.format(key))\n",
    "            new_columns = []\n",
    "            for x in df.columns:\n",
    "                new_columns.append(df[x].iloc[0])\n",
    "            df.columns = new_columns\n",
    "            clean_df = df.iloc[1:]\n",
    "            clean_df.to_csv('Resources/growing_occupation/{}.csv'.format(key), index=False)\n"
   ]
  },
  {
   "cell_type": "markdown",
   "id": "24bde917-1012-453c-8b25-fcc281cf7fb1",
   "metadata": {},
   "source": [
    "##### Cleaned each .csv file to include on the jobs that we found are usable for our analysis"
   ]
  },
  {
   "cell_type": "code",
   "execution_count": 27,
   "id": "a125f8f1-bd4d-49f0-88ed-a16c620d9901",
   "metadata": {},
   "outputs": [],
   "source": [
    "import pandas as pd\n",
    "import os\n",
    "pd.set_option('display.max_columns', 2)\n",
    "\n",
    "production = False\n",
    "if production:\n",
    "    ocupations = [\n",
    "        '11-3021',\n",
    "        '15-0000',\n",
    "        '15-1211',\n",
    "        '15-1221',\n",
    "        '15-1231',\n",
    "        '15-1241',\n",
    "        '15-1245',\n",
    "        '15-1251',\n",
    "        '15-2098',\n",
    "        '51-9161',\n",
    "        '51-9162'\n",
    "    ]\n",
    "    if not os.path.exists('../../Resources/manuel/masterbook_breakdown'):\n",
    "        counter = 0\n",
    "        for file in os.listdir('../../Resources/masterbook'):\n",
    "            df = pd.read_csv(f'Resources/masterbook/{file}')\n",
    "            if counter == 0:\n",
    "                pass\n",
    "            else:\n",
    "                occ_df = df.loc[\n",
    "                    (df[df.columns[1]] == ocupations[0]) |\n",
    "                    (df[df.columns[1]] == ocupations[1]) |\n",
    "                    (df[df.columns[1]] == ocupations[2]) |\n",
    "                    (df[df.columns[1]] == ocupations[3]) |\n",
    "                    (df[df.columns[1]] == ocupations[4]) |\n",
    "                    (df[df.columns[1]] == ocupations[5]) |\n",
    "                    (df[df.columns[1]] == ocupations[6]) |\n",
    "                    (df[df.columns[1]] == ocupations[7]) |\n",
    "                    (df[df.columns[1]] == ocupations[8]) |\n",
    "                    (df[df.columns[1]] == ocupations[9]) |\n",
    "                    (df[df.columns[1]] == ocupations[10])\n",
    "                ]\n",
    "                if not os.path.exists('../../Resources/manuel/masterbook_breakdown/'):\n",
    "                    os.mkdir('../../Resources/manuel/masterbook_breakdown/')\n",
    "                if not len(occ_df) == 0:\n",
    "                    occ_df.to_csv(f'Resources/masterbook_breakdown/{file}', index=False)\n",
    "            counter += 1\n",
    "    if not os.path.exists('../../Resources/manuel/growing_occupation_breakdown'):\n",
    "        counter = 0\n",
    "        for file in os.listdir('../../Resources/growing_occupation'):\n",
    "            df = pd.read_csv(f'Resources/growing_occupation/{file}')\n",
    "            if counter == 0:\n",
    "                pass\n",
    "            else:\n",
    "                occ_df = df.loc[\n",
    "                    (df[df.columns[1]] == ocupations[0]) |\n",
    "                    (df[df.columns[1]] == ocupations[1]) |\n",
    "                    (df[df.columns[1]] == ocupations[2]) |\n",
    "                    (df[df.columns[1]] == ocupations[3]) |\n",
    "                    (df[df.columns[1]] == ocupations[4]) |\n",
    "                    (df[df.columns[1]] == ocupations[5]) |\n",
    "                    (df[df.columns[1]] == ocupations[6]) |\n",
    "                    (df[df.columns[1]] == ocupations[7]) |\n",
    "                    (df[df.columns[1]] == ocupations[8]) |\n",
    "                    (df[df.columns[1]] == ocupations[9]) |\n",
    "                    (df[df.columns[1]] == ocupations[10])\n",
    "                ]\n",
    "                if not os.path.exists('../../Resources/manuel/growing_occupation_breakdown/'):\n",
    "                    os.mkdir('../../Resources/manuel/growing_occupation_breakdown/')\n",
    "                if not len(occ_df) == 0:\n",
    "                    occ_df.to_csv(f'Resources/growing_occupation_breakdown/{file}', index=False)\n",
    "            counter += 1\n"
   ]
  },
  {
   "cell_type": "markdown",
   "id": "9d6d4c3d-caae-4e37-8419-b67fc9e6a3a0",
   "metadata": {},
   "source": [
    "##### Then made every posssible bar chart combination with the .csv files. As a group we decided which ones we wanted to use for our final analysis."
   ]
  },
  {
   "cell_type": "code",
   "execution_count": 23,
   "id": "9412597e-0296-47c4-9240-ab54bd230ae0",
   "metadata": {},
   "outputs": [],
   "source": [
    "import pandas as pd\n",
    "import matplotlib.pyplot as plt\n",
    "import os\n",
    "\n",
    "production = False\n",
    "if production:\n",
    "    masterbook_dfs = [\n",
    "        pd.read_csv(f'Resources/masterbook_breakdown/{file}')\n",
    "        for file in os.listdir('../../Resources/manuel/masterbook_breakdown')\n",
    "    ]\n",
    "\n",
    "    growing_occ_df = [\n",
    "        pd.read_csv(f'Resources/growing_occupation_breakdown/{file}')\n",
    "        for file in os.listdir('../../Resources/manuel/growing_occupation_breakdown')\n",
    "    ]\n",
    "\n",
    "    # Read the .csv with Employment Information\n",
    "    job_stats_df = masterbook_dfs[1]\n",
    "    print(job_stats_df.columns)\n",
    "    # Update the column names for greater legibility\n",
    "    columns = []\n",
    "    for x in job_stats_df.columns:\n",
    "        if x == 'Occupation\\ntype':\n",
    "            columns.append(\"Occupation Type\")\n",
    "        else:\n",
    "            columns.append(x)\n",
    "    job_stats_df.columns = columns\n",
    "\n",
    "    if not os.path.exists('../../Resources/manuel/graphs/'):\n",
    "        os.mkdir('../../Resources/manuel/graphs/')\n",
    "        counter = 0\n",
    "        for x in range(len(job_stats_df.columns)):\n",
    "            for y in range(len(job_stats_df.columns)):\n",
    "                x_axis = job_stats_df[job_stats_df.columns[x]]\n",
    "                y_axis = job_stats_df[job_stats_df.columns[y]]\n",
    "                title = f'{job_stats_df.columns[x]} vs. {job_stats_df.columns[y]}'\n",
    "                plt.figure(counter)\n",
    "                plt.bar(x_axis, y_axis)\n",
    "                plt.xlabel(job_stats_df.columns[x])\n",
    "                plt.ylabel(job_stats_df.columns[y])\n",
    "                plt.title(title)\n",
    "                plt.xticks(rotation=90)\n",
    "                plt.savefig(f'Resources/graphs/{title}.png')\n",
    "                plt.close(counter)\n",
    "                counter += 1\n"
   ]
  },
  {
   "cell_type": "markdown",
   "id": "91f43df5-fc67-421b-a64a-1619b4153ad8",
   "metadata": {},
   "source": [
    "# Analyzing the Data"
   ]
  },
  {
   "cell_type": "code",
   "execution_count": null,
   "id": "13a6ac39-34f8-405a-bc89-a10d3909fba5",
   "metadata": {},
   "outputs": [],
   "source": []
  }
 ],
 "metadata": {
  "kernelspec": {
   "display_name": "Python 3 (ipykernel)",
   "language": "python",
   "name": "python3"
  },
  "language_info": {
   "codemirror_mode": {
    "name": "ipython",
    "version": 3
   },
   "file_extension": ".py",
   "mimetype": "text/x-python",
   "name": "python",
   "nbconvert_exporter": "python",
   "pygments_lexer": "ipython3",
   "version": "3.8.8"
  }
 },
 "nbformat": 4,
 "nbformat_minor": 5
}
