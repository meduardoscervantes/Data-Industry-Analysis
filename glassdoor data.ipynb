## This is Industry data 

import pandas as pd 
file_to_load = "Projects/glassdoor data scientist jobs.csv"
glassdoor_data = pd.read_csv(file_to_load)

# total count of industires 
